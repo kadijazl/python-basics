{
 "cells": [
  {
   "cell_type": "code",
   "execution_count": 114,
   "id": "3e13196b-9d97-47c6-a3d2-c42259bcaf02",
   "metadata": {},
   "outputs": [],
   "source": [
    "# List:\n",
    "# list = [1, 2, 3]\n",
    "# Access: list[0], list[-1]\n",
    "# Methods: .append(), .extend(), .remove(), .pop()\n",
    "\n",
    "# Tuple:\n",
    "# tuple = (1, 2, 3)\n",
    "# Immutable, good for fixed data.\n",
    "\n",
    "# Set:\n",
    "# set = {1, 2, 3}\n",
    "# No duplicates, no indexing.\n",
    "\n",
    "# Dictionary:\n",
    "# dict = {'name': 'Aina', 'age': 23}\n",
    "# Access: dict['name']\n",
    "# Methods: .get(), .keys(), .values(), .items()"
   ]
  },
  {
   "cell_type": "code",
   "execution_count": 7,
   "id": "62a42975-ee14-470b-9d4d-54dd008d6452",
   "metadata": {},
   "outputs": [
    {
     "name": "stdout",
     "output_type": "stream",
     "text": [
      "Hello, Siti!\n",
      "Hello, Abu!\n",
      "Hello, Ali!\n"
     ]
    }
   ],
   "source": [
    "# Inject value into string\n",
    "names = ['siti','abu','ali']\n",
    "\n",
    "for name in names:\n",
    "    print(\"Hello, {}!\".format(name.title()))"
   ]
  },
  {
   "cell_type": "code",
   "execution_count": 15,
   "id": "5c69006c-8dfa-4df6-86d1-b072725f480d",
   "metadata": {},
   "outputs": [
    {
     "name": "stdout",
     "output_type": "stream",
     "text": [
      "name: siti\n",
      "age: 23\n",
      "race: malay\n"
     ]
    },
    {
     "data": {
      "text/plain": [
       "{'name': 'siti', 'age': '23', 'race': 'malay', 'nationality': 'malaysian'}"
      ]
     },
     "execution_count": 15,
     "metadata": {},
     "output_type": "execute_result"
    }
   ],
   "source": [
    "# Dictionary\n",
    "profile = {'name':\"siti\", 'age':'23', 'race':\"malay\"}\n",
    "\n",
    "for key,value in profile.items():\n",
    "    print(key + \": \" + value)\n",
    "\n",
    "profile['nationality']='malaysian'\n",
    "\n",
    "profile"
   ]
  },
  {
   "cell_type": "code",
   "execution_count": 20,
   "id": "9585641e-7686-4abd-9b36-316aa9b0c9d4",
   "metadata": {},
   "outputs": [
    {
     "name": "stdout",
     "output_type": "stream",
     "text": [
      "1\n",
      "3\n",
      "5\n",
      "7\n",
      "9\n"
     ]
    }
   ],
   "source": [
    "# Loop\n",
    "for x in range (1,11):\n",
    "    if x%2==0:\n",
    "        continue\n",
    "    else:\n",
    "        print(x)"
   ]
  },
  {
   "cell_type": "code",
   "execution_count": 30,
   "id": "707ff8eb-bd06-4cd9-82c8-6f87ee1c95a8",
   "metadata": {},
   "outputs": [
    {
     "name": "stdout",
     "output_type": "stream",
     "text": [
      "User's Name: Siti\n",
      "Welcome back.\n",
      "Have a nice day.\n",
      "\n",
      "User's Name: Abu\n",
      "Welcome!\n",
      "Have a nice day.\n",
      "\n",
      "User's Name: Ali\n",
      "Welcome!\n",
      "Have a nice day.\n",
      "\n"
     ]
    }
   ],
   "source": [
    "# Loop\n",
    "for name in names:\n",
    "    print(\"User\\'s Name: \"+name.title())\n",
    "    if name=='siti':\n",
    "        print(\"Welcome back.\")\n",
    "    else: \n",
    "        print(\"Welcome!\")\n",
    "    print(\"Have a nice day.\\n\")"
   ]
  },
  {
   "cell_type": "code",
   "execution_count": 39,
   "id": "1fb49b7e-38a0-485e-9a53-22192ff868a8",
   "metadata": {},
   "outputs": [
    {
     "name": "stdout",
     "output_type": "stream",
     "text": [
      "Welcome, user.\n",
      "\n",
      "Logging in... Attempt 1\n",
      "Logging in... Attempt 2\n",
      "Logging in... Attempt 3\n",
      "You have reached maximum login attempts.\n",
      "\n",
      "Goodbye!\n"
     ]
    }
   ],
   "source": [
    "# Loop\n",
    "login_attempt = 0\n",
    "max_attempt = 3\n",
    "\n",
    "print(\"Welcome, user.\\n\")\n",
    "while True:\n",
    "    print(\"Logging in... Attempt {}\".format(login_attempt+1))\n",
    "    login_attempt+=1\n",
    "\n",
    "    if login_attempt==max_attempt:\n",
    "        print(\"You have reached maximum login attempts.\\n\\nGoodbye!\")\n",
    "        break"
   ]
  },
  {
   "cell_type": "code",
   "execution_count": 44,
   "id": "fc31e90e-0576-45a0-a241-e2cd704cd8d1",
   "metadata": {},
   "outputs": [
    {
     "name": "stdout",
     "output_type": "stream",
     "text": [
      "WELCOME AMEER.\n",
      "ENJOY YOUR STAY.\n",
      "\n",
      "WELCOME TRISH.\n",
      "ENJOY YOUR STAY.\n",
      "\n",
      "WELCOME DANISH.\n",
      "ENJOY YOUR STAY.\n",
      "\n"
     ]
    }
   ],
   "source": [
    "# Function - predefined input\n",
    "guest_list = ['Ameer','Trish','Danish']\n",
    "\n",
    "def welcoming_guest(x):\n",
    "    print(\"WELCOME {}.\".format(x.upper()))\n",
    "    print(\"ENJOY YOUR STAY.\\n\")\n",
    "\n",
    "for guest in guest_list:\n",
    "    welcoming_guest(guest)"
   ]
  },
  {
   "cell_type": "code",
   "execution_count": 1,
   "id": "92c5ea7a-331e-40b1-8c78-fc2a21f528b3",
   "metadata": {},
   "outputs": [
    {
     "name": "stdout",
     "output_type": "stream",
     "text": [
      "Welcome, Dila. Your seat number is 3A.\n"
     ]
    }
   ],
   "source": [
    "# Function - multiple injections, and user input\n",
    "def welcome_aboard(x,y):\n",
    "    print(\"Welcome, {}. Your seat number is {}.\".format(x,y))\n",
    "\n",
    "welcome_aboard('Dila','3A')"
   ]
  },
  {
   "cell_type": "code",
   "execution_count": 55,
   "id": "87244229-4391-46b5-9671-2f081d533a0b",
   "metadata": {},
   "outputs": [
    {
     "name": "stdout",
     "output_type": "stream",
     "text": [
      "Position: 0\n",
      "Name: Siti\n",
      "Position: 1\n",
      "Name: Abu\n",
      "Position: 2\n",
      "Name: Ali\n"
     ]
    }
   ],
   "source": [
    "# Function - enumerate (allow u to get the value and its index)\n",
    "for index,name in enumerate(names):\n",
    "    print(\"Position: \"+str(index))\n",
    "    print(\"Name: \"+name.title())"
   ]
  },
  {
   "cell_type": "code",
   "execution_count": 56,
   "id": "78844959-32a9-4a55-921c-f721043fcda1",
   "metadata": {},
   "outputs": [
    {
     "name": "stdout",
     "output_type": "stream",
     "text": [
      "Hi siti, your partner is Ameer\n",
      "Hi abu, your partner is Trish\n",
      "Hi ali, your partner is Danish\n"
     ]
    }
   ],
   "source": [
    "# Function\n",
    "def partner_finder(x):\n",
    "    for index,name in enumerate(names):\n",
    "        print(\"Hi \"+name+\", your partner is \"+x[index])\n",
    "partner_finder(guest_list)"
   ]
  },
  {
   "cell_type": "code",
   "execution_count": 67,
   "id": "2d2f2c39-16e4-4b06-88e9-0d8d79e7b84b",
   "metadata": {},
   "outputs": [
    {
     "name": "stdout",
     "output_type": "stream",
     "text": [
      "Passenger: Wills\n",
      "Seat: 3A\n",
      "Notice: None\n",
      "\n",
      "Passenger: Helen\n",
      "Seat: 2C\n",
      "Notice: Flight Delayed\n",
      "\n"
     ]
    }
   ],
   "source": [
    "# Function - keyword arguments (allow you to define a default value, and custom the value when needed)\n",
    "def onboarding(passenger, seat, message='None'):\n",
    "    print(\"Passenger: {}\\nSeat: {}\\nNotice: {}\\n\".format(passenger,seat,message))\n",
    "\n",
    "onboarding('Wills','3A')\n",
    "onboarding('Helen','2C',message='Flight Delayed')"
   ]
  },
  {
   "cell_type": "code",
   "execution_count": 77,
   "id": "60e45945-2a6c-475d-9057-5c11cd38cf2a",
   "metadata": {},
   "outputs": [
    {
     "name": "stdout",
     "output_type": "stream",
     "text": [
      "[25, 4, 16]\n"
     ]
    },
    {
     "data": {
      "text/plain": [
       "3"
      ]
     },
     "execution_count": 77,
     "metadata": {},
     "output_type": "execute_result"
    }
   ],
   "source": [
    "# return Function - when u want to save/use the result for other steps\n",
    "my_collection = []\n",
    "def square(x):\n",
    "    return x*x\n",
    "\n",
    "# here i need to save the result so i can store in my list. \n",
    "# if i use \"print()\" it will just display the value, i wont be able to actually get the value and manipulate it.\n",
    "my_collection.append(square(5))\n",
    "my_collection.append(square(2))\n",
    "my_collection.append(square(4))\n",
    "\n",
    "print(my_collection)\n",
    "len(my_collection)"
   ]
  },
  {
   "cell_type": "code",
   "execution_count": 79,
   "id": "9c559371-1b1b-4bd0-96b7-0a08d1a3dd8e",
   "metadata": {},
   "outputs": [
    {
     "data": {
      "text/plain": [
       "16"
      ]
     },
     "execution_count": 79,
     "metadata": {},
     "output_type": "execute_result"
    }
   ],
   "source": [
    "# lambda - quick one-line function\n",
    "square = lambda x:x*x\n",
    "\n",
    "square(4)"
   ]
  },
  {
   "cell_type": "code",
   "execution_count": 82,
   "id": "53ca158f-befb-4340-8d34-ccfdba634b97",
   "metadata": {},
   "outputs": [
    {
     "name": "stdout",
     "output_type": "stream",
     "text": [
      "[4, 16, 25]\n"
     ]
    }
   ],
   "source": [
    "# List Comprehension - a shorter way to write a loop (that produce a list)\n",
    "number = [2,4,5]\n",
    "squared = [x*x for x in number]\n",
    "print(squared)"
   ]
  },
  {
   "cell_type": "code",
   "execution_count": 105,
   "id": "ea66d12e-e9ea-4f0e-9d25-c1f932563ef4",
   "metadata": {},
   "outputs": [
    {
     "name": "stdout",
     "output_type": "stream",
     "text": [
      "2.0\n",
      "Can't divide by zero!\n",
      "Can only process integer or float!\n"
     ]
    }
   ],
   "source": [
    "# Error Handling - use inside function, near where error could happen.\n",
    "# most errors already predefined, just custom ur print message for it :)\n",
    "def divide(a, b):\n",
    "    try:\n",
    "        return a/b\n",
    "    except ZeroDivisionError:\n",
    "        return \"Can't divide by zero!\"\n",
    "    except TypeError:\n",
    "        return \"Can only process integer or float!\"\n",
    "        \n",
    "print(divide(4, 2))\n",
    "print(divide(5, 0))\n",
    "print(divide(3, 'a'))"
   ]
  },
  {
   "cell_type": "code",
   "execution_count": null,
   "id": "4380a90c-4f0f-41f8-9253-5065137473f3",
   "metadata": {},
   "outputs": [],
   "source": [
    "# File I/O\n",
    "\n",
    "with open('file.txt', 'r') as file:\n",
    "    content = file.read()\n",
    "    print(content)\n",
    "\n",
    "with open('file.txt', 'w') as file:\n",
    "    file.write(\"Hello, World!\")\n"
   ]
  },
  {
   "cell_type": "code",
   "execution_count": 3,
   "id": "f2ba5807-2055-4a15-8ebe-7f6529195115",
   "metadata": {},
   "outputs": [
    {
     "data": {
      "text/plain": [
       "\"Hello, I'm Siti!\""
      ]
     },
     "execution_count": 3,
     "metadata": {},
     "output_type": "execute_result"
    }
   ],
   "source": [
    "# Class\n",
    "class Person:\n",
    "    # Attributes\n",
    "    def __init__(self, name, age):\n",
    "        self.name = name\n",
    "        self.age = age\n",
    "\n",
    "    # Methods\n",
    "    def greet(self):\n",
    "        return f\"Hello, I'm {self.name}!\"\n",
    "\n",
    "person = Person(\"Siti\", 23)\n",
    "person.greet()"
   ]
  },
  {
   "cell_type": "code",
   "execution_count": 4,
   "id": "d6cb1cef-7157-48f4-86da-f36063eb8a65",
   "metadata": {},
   "outputs": [
    {
     "data": {
      "text/plain": [
       "\"Hello, I'm Dija! My student ID is 2021610118.\""
      ]
     },
     "execution_count": 4,
     "metadata": {},
     "output_type": "execute_result"
    }
   ],
   "source": [
    "# Inheritance\n",
    "class Student(Person):\n",
    "    def __init__(self, name, age, student_id):\n",
    "        super().__init__(name, age)\n",
    "        self.student_id = student_id\n",
    "\n",
    "    def identify(self):\n",
    "        return f\"Hello, I'm {self.name}! My student ID is {self.student_id}.\"\n",
    "\n",
    "student = Student(\"Dija\",23,2021610118)\n",
    "student.identify()"
   ]
  },
  {
   "cell_type": "code",
   "execution_count": 1,
   "id": "8565ca29-9d74-43c2-8140-e35ab8fce418",
   "metadata": {},
   "outputs": [
    {
     "name": "stdout",
     "output_type": "stream",
     "text": [
      "Initialized empty Git repository in C:/Users/Khadijah/jupyter notebook/.git/\n"
     ]
    }
   ],
   "source": [
    "!git init"
   ]
  },
  {
   "cell_type": "code",
   "execution_count": 2,
   "id": "0054ac74-7b07-44eb-840c-190295d99382",
   "metadata": {},
   "outputs": [],
   "source": [
    "!git remote add origin https://github.com/kadijazl/python-basics.git"
   ]
  },
  {
   "cell_type": "code",
   "execution_count": null,
   "id": "0f073bd5-759c-409a-b3c6-5a1588535005",
   "metadata": {},
   "outputs": [],
   "source": [
    "!git add"
   ]
  }
 ],
 "metadata": {
  "kernelspec": {
   "display_name": "Python 3 (ipykernel)",
   "language": "python",
   "name": "python3"
  },
  "language_info": {
   "codemirror_mode": {
    "name": "ipython",
    "version": 3
   },
   "file_extension": ".py",
   "mimetype": "text/x-python",
   "name": "python",
   "nbconvert_exporter": "python",
   "pygments_lexer": "ipython3",
   "version": "3.11.10"
  }
 },
 "nbformat": 4,
 "nbformat_minor": 5
}
