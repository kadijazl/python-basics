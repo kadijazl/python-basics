{
 "cells": [
  {
   "cell_type": "code",
   "execution_count": 7,
   "id": "b1e1f261-3b41-4e93-bb67-3cd0a927f017",
   "metadata": {},
   "outputs": [],
   "source": [
    "# List:\n",
    "# list = [1, 2, 3]\n",
    "# Access: list[0], list[-1]\n",
    "# Methods: .append(), .extend(), .remove(), .pop()\n",
    "\n",
    "# Tuple:\n",
    "# tuple = (1, 2, 3)\n",
    "# Immutable, good for fixed data.\n",
    "\n",
    "# Set:\n",
    "# set = {1, 2, 3}\n",
    "# No duplicates, no indexing.\n",
    "\n",
    "# Dictionary:\n",
    "# dict = {'name': 'Aina', 'age': 23}\n",
    "# Access: dict['name']\n",
    "# Methods: .get(), .keys(), .values(), .items()"
   ]
  },
  {
   "cell_type": "markdown",
   "id": "17b8a75b-4551-4a33-9292-ac8ab2e1abef",
   "metadata": {},
   "source": [
    "### shallow & deep copy"
   ]
  },
  {
   "cell_type": "code",
   "execution_count": 1,
   "id": "ca20815b-cdef-4211-aaae-b81b5bb598fe",
   "metadata": {},
   "outputs": [
    {
     "name": "stdout",
     "output_type": "stream",
     "text": [
      "[1, 2, 3, 4]\n"
     ]
    }
   ],
   "source": [
    "# some notes on copying\n",
    "x = [1,2,3]\n",
    "y = x # y is a reference of x\n",
    "y.append(4)\n",
    "print(x)\n",
    "\n"
   ]
  },
  {
   "cell_type": "code",
   "execution_count": 2,
   "id": "b348178a-8f0d-4b9b-9708-147a9740b6a9",
   "metadata": {},
   "outputs": [
    {
     "name": "stdout",
     "output_type": "stream",
     "text": [
      "[1, 2, 3]\n"
     ]
    }
   ],
   "source": [
    "# shallow copy\n",
    "x = [1,2,3]\n",
    "y = list(x) # correct way to copy a list - this is also an example of shallow copy\n",
    "y.append(4)\n",
    "print(x)"
   ]
  },
  {
   "cell_type": "code",
   "execution_count": 4,
   "id": "263006a5-dc49-4ba3-9099-3c8c470ee3ba",
   "metadata": {},
   "outputs": [
    {
     "name": "stdout",
     "output_type": "stream",
     "text": [
      "[[1, 2], [3, 4]]\n",
      "[[1, 2, 5], [3, 4]]\n"
     ]
    }
   ],
   "source": [
    "# deep copy - when u want y to be completely independent of x. usually for nested list.\n",
    "import copy\n",
    "\n",
    "x = [[1,2],[3,4]]\n",
    "y = copy.deepcopy(x)\n",
    "y[0].append(5)\n",
    "\n",
    "print(x)\n",
    "print(y)"
   ]
  },
  {
   "cell_type": "code",
   "execution_count": 6,
   "id": "15707e25-b7b1-43db-bc48-21b42cecd686",
   "metadata": {},
   "outputs": [
    {
     "name": "stdout",
     "output_type": "stream",
     "text": [
      "[[1, 2, 5], [3, 4]]\n",
      "[[1, 2, 5], [3, 4]]\n"
     ]
    }
   ],
   "source": [
    "# what happens when u dont use deep copy\n",
    "x = [[1,2],[3,4]]\n",
    "y = list(x)\n",
    "y[0].append(5)\n",
    "\n",
    "print(x)\n",
    "print(y)"
   ]
  },
  {
   "cell_type": "markdown",
   "id": "1a8553d6-2af6-45be-8221-9096628a4298",
   "metadata": {},
   "source": [
    "### string formatting"
   ]
  },
  {
   "cell_type": "code",
   "execution_count": 7,
   "id": "62a42975-ee14-470b-9d4d-54dd008d6452",
   "metadata": {},
   "outputs": [
    {
     "name": "stdout",
     "output_type": "stream",
     "text": [
      "Hello, Siti!\n",
      "Hello, Abu!\n",
      "Hello, Ali!\n"
     ]
    }
   ],
   "source": [
    "# Inject value into string\n",
    "names = ['siti','abu','ali']\n",
    "\n",
    "for name in names:\n",
    "    print(\"Hello, {}!\".format(name.title()))"
   ]
  },
  {
   "cell_type": "markdown",
   "id": "a9923b34-c703-4ba7-a205-bf1c5ef2dc7a",
   "metadata": {},
   "source": [
    "### dictionary"
   ]
  },
  {
   "cell_type": "code",
   "execution_count": 15,
   "id": "5c69006c-8dfa-4df6-86d1-b072725f480d",
   "metadata": {},
   "outputs": [
    {
     "name": "stdout",
     "output_type": "stream",
     "text": [
      "name: siti\n",
      "age: 23\n",
      "race: malay\n"
     ]
    },
    {
     "data": {
      "text/plain": [
       "{'name': 'siti', 'age': '23', 'race': 'malay', 'nationality': 'malaysian'}"
      ]
     },
     "execution_count": 15,
     "metadata": {},
     "output_type": "execute_result"
    }
   ],
   "source": [
    "# Dictionary\n",
    "profile = {'name':\"siti\", 'age':'23', 'race':\"malay\"}\n",
    "\n",
    "for key,value in profile.items():\n",
    "    print(key + \": \" + value)\n",
    "\n",
    "profile['nationality']='malaysian'\n",
    "\n",
    "profile"
   ]
  },
  {
   "cell_type": "markdown",
   "id": "1d4adc17-c39c-48b2-bc86-aa58fde1c853",
   "metadata": {},
   "source": [
    "### for loop"
   ]
  },
  {
   "cell_type": "code",
   "execution_count": 20,
   "id": "9585641e-7686-4abd-9b36-316aa9b0c9d4",
   "metadata": {},
   "outputs": [
    {
     "name": "stdout",
     "output_type": "stream",
     "text": [
      "1\n",
      "3\n",
      "5\n",
      "7\n",
      "9\n"
     ]
    }
   ],
   "source": [
    "# Loop\n",
    "for x in range (1,11):\n",
    "    if x%2==0:\n",
    "        continue\n",
    "    else:\n",
    "        print(x)"
   ]
  },
  {
   "cell_type": "code",
   "execution_count": 30,
   "id": "707ff8eb-bd06-4cd9-82c8-6f87ee1c95a8",
   "metadata": {},
   "outputs": [
    {
     "name": "stdout",
     "output_type": "stream",
     "text": [
      "User's Name: Siti\n",
      "Welcome back.\n",
      "Have a nice day.\n",
      "\n",
      "User's Name: Abu\n",
      "Welcome!\n",
      "Have a nice day.\n",
      "\n",
      "User's Name: Ali\n",
      "Welcome!\n",
      "Have a nice day.\n",
      "\n"
     ]
    }
   ],
   "source": [
    "# Loop\n",
    "for name in names:\n",
    "    print(\"User\\'s Name: \"+name.title())\n",
    "    if name=='siti':\n",
    "        print(\"Welcome back.\")\n",
    "    else: \n",
    "        print(\"Welcome!\")\n",
    "    print(\"Have a nice day.\\n\")"
   ]
  },
  {
   "cell_type": "markdown",
   "id": "a48bc147-8f17-4fea-a601-013e548f6543",
   "metadata": {},
   "source": [
    "### while loop"
   ]
  },
  {
   "cell_type": "code",
   "execution_count": 39,
   "id": "1fb49b7e-38a0-485e-9a53-22192ff868a8",
   "metadata": {},
   "outputs": [
    {
     "name": "stdout",
     "output_type": "stream",
     "text": [
      "Welcome, user.\n",
      "\n",
      "Logging in... Attempt 1\n",
      "Logging in... Attempt 2\n",
      "Logging in... Attempt 3\n",
      "You have reached maximum login attempts.\n",
      "\n",
      "Goodbye!\n"
     ]
    }
   ],
   "source": [
    "login_attempt = 0\n",
    "max_attempt = 3\n",
    "\n",
    "print(\"Welcome, user.\\n\")\n",
    "while True:\n",
    "    print(\"Logging in... Attempt {}\".format(login_attempt+1))\n",
    "    login_attempt+=1\n",
    "\n",
    "    if login_attempt==max_attempt:\n",
    "        print(\"You have reached maximum login attempts.\\n\\nGoodbye!\")\n",
    "        break"
   ]
  },
  {
   "cell_type": "markdown",
   "id": "3eac9489-40be-4885-94a6-897ff960a9a0",
   "metadata": {},
   "source": [
    "### function"
   ]
  },
  {
   "cell_type": "code",
   "execution_count": 44,
   "id": "fc31e90e-0576-45a0-a241-e2cd704cd8d1",
   "metadata": {},
   "outputs": [
    {
     "name": "stdout",
     "output_type": "stream",
     "text": [
      "WELCOME AMEER.\n",
      "ENJOY YOUR STAY.\n",
      "\n",
      "WELCOME TRISH.\n",
      "ENJOY YOUR STAY.\n",
      "\n",
      "WELCOME DANISH.\n",
      "ENJOY YOUR STAY.\n",
      "\n"
     ]
    }
   ],
   "source": [
    "# Function - predefined input\n",
    "guest_list = ['Ameer','Trish','Danish']\n",
    "\n",
    "def welcoming_guest(x):\n",
    "    print(\"WELCOME {}.\".format(x.upper()))\n",
    "    print(\"ENJOY YOUR STAY.\\n\")\n",
    "\n",
    "for guest in guest_list:\n",
    "    welcoming_guest(guest)"
   ]
  },
  {
   "cell_type": "code",
   "execution_count": 1,
   "id": "92c5ea7a-331e-40b1-8c78-fc2a21f528b3",
   "metadata": {},
   "outputs": [
    {
     "name": "stdout",
     "output_type": "stream",
     "text": [
      "Welcome, Dila. Your seat number is 3A.\n"
     ]
    }
   ],
   "source": [
    "# Function - receive multiple user input\n",
    "def welcome_aboard(x,y):\n",
    "    print(\"Welcome, {}. Your seat number is {}.\".format(x,y))\n",
    "\n",
    "welcome_aboard('Dila','3A')"
   ]
  },
  {
   "cell_type": "code",
   "execution_count": 67,
   "id": "2d2f2c39-16e4-4b06-88e9-0d8d79e7b84b",
   "metadata": {},
   "outputs": [
    {
     "name": "stdout",
     "output_type": "stream",
     "text": [
      "Passenger: Wills\n",
      "Seat: 3A\n",
      "Notice: None\n",
      "\n",
      "Passenger: Helen\n",
      "Seat: 2C\n",
      "Notice: Flight Delayed\n",
      "\n"
     ]
    }
   ],
   "source": [
    "# Function - keyword arguments (allow you to define a default value, and custom the value when needed)\n",
    "def onboarding(passenger, seat, message='None'):\n",
    "    print(\"Passenger: {}\\nSeat: {}\\nNotice: {}\\n\".format(passenger,seat,message))\n",
    "\n",
    "onboarding('Wills','3A')\n",
    "onboarding('Helen','2C',message='Flight Delayed')"
   ]
  },
  {
   "cell_type": "code",
   "execution_count": 77,
   "id": "60e45945-2a6c-475d-9057-5c11cd38cf2a",
   "metadata": {},
   "outputs": [
    {
     "name": "stdout",
     "output_type": "stream",
     "text": [
      "[25, 4, 16]\n"
     ]
    },
    {
     "data": {
      "text/plain": [
       "3"
      ]
     },
     "execution_count": 77,
     "metadata": {},
     "output_type": "execute_result"
    }
   ],
   "source": [
    "# return Function - when u want to save/use the result for other steps\n",
    "my_collection = []\n",
    "def square(x):\n",
    "    return x*x\n",
    "\n",
    "# here i need to save the result so i can store in my list. \n",
    "# if i use \"print()\" it will just display the value, i wont be able to actually get the value and manipulate it.\n",
    "my_collection.append(square(5))\n",
    "my_collection.append(square(2))\n",
    "my_collection.append(square(4))\n",
    "\n",
    "print(my_collection)\n",
    "len(my_collection)"
   ]
  },
  {
   "cell_type": "markdown",
   "id": "da84db30-4a04-4c3f-b5ca-620cfb64098c",
   "metadata": {},
   "source": [
    "### enumerate"
   ]
  },
  {
   "cell_type": "code",
   "execution_count": 55,
   "id": "87244229-4391-46b5-9671-2f081d533a0b",
   "metadata": {},
   "outputs": [
    {
     "name": "stdout",
     "output_type": "stream",
     "text": [
      "Position: 0\n",
      "Name: Siti\n",
      "Position: 1\n",
      "Name: Abu\n",
      "Position: 2\n",
      "Name: Ali\n"
     ]
    }
   ],
   "source": [
    "# Function - enumerate (allow u to get the value and its index)\n",
    "for index,name in enumerate(names):\n",
    "    print(\"Position: \"+str(index))\n",
    "    print(\"Name: \"+name.title())"
   ]
  },
  {
   "cell_type": "code",
   "execution_count": 56,
   "id": "78844959-32a9-4a55-921c-f721043fcda1",
   "metadata": {},
   "outputs": [
    {
     "name": "stdout",
     "output_type": "stream",
     "text": [
      "Hi siti, your partner is Ameer\n",
      "Hi abu, your partner is Trish\n",
      "Hi ali, your partner is Danish\n"
     ]
    }
   ],
   "source": [
    "# Function\n",
    "def partner_finder(x):\n",
    "    for index,name in enumerate(names):\n",
    "        print(\"Hi \"+name+\", your partner is \"+x[index])\n",
    "partner_finder(guest_list)"
   ]
  },
  {
   "cell_type": "markdown",
   "id": "a4291c18-f56a-465c-8ec1-3ebf97a75b4d",
   "metadata": {},
   "source": [
    "### lambda & list comprehension"
   ]
  },
  {
   "cell_type": "code",
   "execution_count": 13,
   "id": "ec1b2ea9-ade2-4462-9a42-66265a119d9b",
   "metadata": {},
   "outputs": [
    {
     "data": {
      "text/plain": [
       "16"
      ]
     },
     "execution_count": 13,
     "metadata": {},
     "output_type": "execute_result"
    }
   ],
   "source": [
    "# Lambda - a quick temporary function\n",
    "square = lambda x:x*x\n",
    "square(4)"
   ]
  },
  {
   "cell_type": "code",
   "execution_count": 15,
   "id": "f5c9c1e6-750a-4973-8455-26d0bd7a44f2",
   "metadata": {},
   "outputs": [
    {
     "name": "stdout",
     "output_type": "stream",
     "text": [
      "[1, 4, 9]\n"
     ]
    }
   ],
   "source": [
    "# List comprehension - shorter, more efficient way to write for loop\n",
    "num = [1,2,3]\n",
    "squared = [x*x for x in num]\n",
    "print(squared)"
   ]
  },
  {
   "cell_type": "markdown",
   "id": "04e6fc10-c737-4223-87b9-e27dbe5e4300",
   "metadata": {},
   "source": [
    "### error handling"
   ]
  },
  {
   "cell_type": "code",
   "execution_count": 105,
   "id": "ea66d12e-e9ea-4f0e-9d25-c1f932563ef4",
   "metadata": {},
   "outputs": [
    {
     "name": "stdout",
     "output_type": "stream",
     "text": [
      "2.0\n",
      "Can't divide by zero!\n",
      "Can only process integer or float!\n"
     ]
    }
   ],
   "source": [
    "# Error Handling - use inside function, near where error could happen.\n",
    "# most errors already predefined, just custom ur print message for it :)\n",
    "def divide(a, b):\n",
    "    try:\n",
    "        return a/b\n",
    "    except ZeroDivisionError:\n",
    "        return \"Can't divide by zero!\"\n",
    "    except TypeError:\n",
    "        return \"Can only process integer or float!\"\n",
    "        \n",
    "print(divide(4, 2))\n",
    "print(divide(5, 0))\n",
    "print(divide(3, 'a'))"
   ]
  },
  {
   "cell_type": "markdown",
   "id": "05252702-46e6-49b4-9fa5-e283176fe795",
   "metadata": {},
   "source": [
    "### file I/O"
   ]
  },
  {
   "cell_type": "code",
   "execution_count": null,
   "id": "4380a90c-4f0f-41f8-9253-5065137473f3",
   "metadata": {},
   "outputs": [],
   "source": [
    "with open('file.txt', 'r') as file:\n",
    "    content = file.read()\n",
    "    print(content)\n",
    "\n",
    "with open('file.txt', 'w') as file:\n",
    "    file.write(\"Hello, World!\")"
   ]
  },
  {
   "cell_type": "markdown",
   "id": "4926a0e9-5495-49b1-a9f1-c30649aff11f",
   "metadata": {},
   "source": [
    "### class & inheritance"
   ]
  },
  {
   "cell_type": "code",
   "execution_count": 10,
   "id": "f2ba5807-2055-4a15-8ebe-7f6529195115",
   "metadata": {},
   "outputs": [
    {
     "data": {
      "text/plain": [
       "\"Hello, I'm Siti!\""
      ]
     },
     "execution_count": 10,
     "metadata": {},
     "output_type": "execute_result"
    }
   ],
   "source": [
    "# Class\n",
    "class Person:\n",
    "    # Attributes\n",
    "    def __init__(self, name, age):\n",
    "        self.name = name\n",
    "        self.age = age\n",
    "\n",
    "    # Methods\n",
    "    def greet(self):\n",
    "        return f\"Hello, I'm {self.name}!\"\n",
    "\n",
    "person = Person(\"Siti\", 23)\n",
    "person.greet()"
   ]
  },
  {
   "cell_type": "code",
   "execution_count": 12,
   "id": "d6cb1cef-7157-48f4-86da-f36063eb8a65",
   "metadata": {},
   "outputs": [
    {
     "data": {
      "text/plain": [
       "\"Hello, I'm Abu! My student ID is 2021000999.\""
      ]
     },
     "execution_count": 12,
     "metadata": {},
     "output_type": "execute_result"
    }
   ],
   "source": [
    "# Inheritance\n",
    "class Student(Person):\n",
    "    def __init__(self, name, age, student_id):\n",
    "        super().__init__(name, age)\n",
    "        self.student_id = student_id\n",
    "\n",
    "    def identify(self):\n",
    "        return f\"Hello, I'm {self.name}! My student ID is {self.student_id}.\"\n",
    "\n",
    "student = Student(\"Abu\",23,2021000999)\n",
    "student.identify()"
   ]
  },
  {
   "cell_type": "code",
   "execution_count": 16,
   "id": "2460c649-b66b-48fa-967e-2fae50ac7e8a",
   "metadata": {},
   "outputs": [
    {
     "name": "stdout",
     "output_type": "stream",
     "text": [
      "Reinitialized existing Git repository in C:/Users/Khadijah/jupyter notebook/.git/\n"
     ]
    }
   ],
   "source": [
    "! git init"
   ]
  },
  {
   "cell_type": "code",
   "execution_count": 25,
   "id": "86a4f567",
   "metadata": {},
   "outputs": [
    {
     "name": "stderr",
     "output_type": "stream",
     "text": [
      "warning: in the working copy of 'python.ipynb', LF will be replaced by CRLF the next time Git touches it\n"
     ]
    }
   ],
   "source": [
    "! git push"
   ]
  },
  {
   "cell_type": "code",
   "execution_count": 8,
   "id": "c3d92b15-dcdd-4c4d-a9bc-6f9ed5e51e58",
   "metadata": {},
   "outputs": [
    {
     "name": "stderr",
     "output_type": "stream",
     "text": [
      "Everything up-to-date\n"
     ]
    }
   ],
   "source": [
    "!git push origin master"
   ]
  }
 ],
 "metadata": {
  "kernelspec": {
   "display_name": "Python 3 (ipykernel)",
   "language": "python",
   "name": "python3"
  },
  "language_info": {
   "codemirror_mode": {
    "name": "ipython",
    "version": 3
   },
   "file_extension": ".py",
   "mimetype": "text/x-python",
   "name": "python",
   "nbconvert_exporter": "python",
   "pygments_lexer": "ipython3",
   "version": "3.11.10"
  }
 },
 "nbformat": 4,
 "nbformat_minor": 5
}
